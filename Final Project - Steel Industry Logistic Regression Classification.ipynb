{
 "cells": [
  {
   "cell_type": "markdown",
   "id": "1ab0010b",
   "metadata": {},
   "source": [
    "<h1>Steel Industry Data - Logistic Regression Classification</h1>\n",
    "<h2>IT 7143</h2>\n",
    "<h3></h3>\n",
    "<h3></h3>"
   ]
  },
  {
   "cell_type": "code",
   "execution_count": 1,
   "id": "6ad8f163",
   "metadata": {},
   "outputs": [
    {
     "name": "stdout",
     "output_type": "stream",
     "text": [
      "(35040, 10)\n"
     ]
    }
   ],
   "source": [
    "#import pandas and numpy library and import the csv file\n",
    "import pandas as pd\n",
    "import numpy as np\n",
    "\n",
    "data=pd.read_csv('Steel_industry_data.csv')\n",
    "data.drop(columns=['date'],inplace=True)\n",
    "#rename attributes\n",
    "data = data.rename(columns = {'Lagging_Current_Reactive.Power_kVarh' : 'Lagging_Current_Reactive_Power_kVarh', \n",
    "                          'CO2(tCO2)' : 'CO2'})\n",
    "data.head()\n",
    "feature_cols=data.columns.drop('Load_Type')\n",
    "print(data.shape)"
   ]
  },
  {
   "cell_type": "code",
   "execution_count": 2,
   "id": "3bf44a94",
   "metadata": {},
   "outputs": [],
   "source": [
    "#replace letters in data with numerical values\n",
    "data.dropna(inplace=True)\n",
    "data['WeekStatus']=data['WeekStatus'].map({'Weekday': 0, 'Weekend': 1})\n",
    "data['Day_of_week']=data['Day_of_week'].map({'Monday': 0, 'Tuesday': 1,'Wednesday':2,'Thursday':3,\"Friday\":4,\"Saturday\":5,\"Sunday\":6})"
   ]
  },
  {
   "cell_type": "code",
   "execution_count": 3,
   "id": "cbff07ab",
   "metadata": {},
   "outputs": [],
   "source": [
    "#use feature columns as X and target load type as y\n",
    "X = data[feature_cols]\n",
    "y = data.Load_Type"
   ]
  },
  {
   "cell_type": "code",
   "execution_count": 4,
   "id": "587b68bd",
   "metadata": {
    "scrolled": false
   },
   "outputs": [
    {
     "data": {
      "text/html": [
       "<div>\n",
       "<style scoped>\n",
       "    .dataframe tbody tr th:only-of-type {\n",
       "        vertical-align: middle;\n",
       "    }\n",
       "\n",
       "    .dataframe tbody tr th {\n",
       "        vertical-align: top;\n",
       "    }\n",
       "\n",
       "    .dataframe thead th {\n",
       "        text-align: right;\n",
       "    }\n",
       "</style>\n",
       "<table border=\"1\" class=\"dataframe\">\n",
       "  <thead>\n",
       "    <tr style=\"text-align: right;\">\n",
       "      <th></th>\n",
       "      <th>Usage_kWh</th>\n",
       "      <th>Lagging_Current_Reactive_Power_kVarh</th>\n",
       "      <th>Leading_Current_Reactive_Power_kVarh</th>\n",
       "      <th>CO2</th>\n",
       "      <th>Lagging_Current_Power_Factor</th>\n",
       "      <th>Leading_Current_Power_Factor</th>\n",
       "      <th>NSM</th>\n",
       "      <th>WeekStatus</th>\n",
       "      <th>Day_of_week</th>\n",
       "      <th>Load_Type</th>\n",
       "    </tr>\n",
       "  </thead>\n",
       "  <tbody>\n",
       "    <tr>\n",
       "      <th>0</th>\n",
       "      <td>3.17</td>\n",
       "      <td>2.95</td>\n",
       "      <td>0.0</td>\n",
       "      <td>0.0</td>\n",
       "      <td>73.21</td>\n",
       "      <td>100.0</td>\n",
       "      <td>900</td>\n",
       "      <td>0</td>\n",
       "      <td>0</td>\n",
       "      <td>Light_Load</td>\n",
       "    </tr>\n",
       "    <tr>\n",
       "      <th>1</th>\n",
       "      <td>4.00</td>\n",
       "      <td>4.46</td>\n",
       "      <td>0.0</td>\n",
       "      <td>0.0</td>\n",
       "      <td>66.77</td>\n",
       "      <td>100.0</td>\n",
       "      <td>1800</td>\n",
       "      <td>0</td>\n",
       "      <td>0</td>\n",
       "      <td>Light_Load</td>\n",
       "    </tr>\n",
       "    <tr>\n",
       "      <th>2</th>\n",
       "      <td>3.24</td>\n",
       "      <td>3.28</td>\n",
       "      <td>0.0</td>\n",
       "      <td>0.0</td>\n",
       "      <td>70.28</td>\n",
       "      <td>100.0</td>\n",
       "      <td>2700</td>\n",
       "      <td>0</td>\n",
       "      <td>0</td>\n",
       "      <td>Light_Load</td>\n",
       "    </tr>\n",
       "    <tr>\n",
       "      <th>3</th>\n",
       "      <td>3.31</td>\n",
       "      <td>3.56</td>\n",
       "      <td>0.0</td>\n",
       "      <td>0.0</td>\n",
       "      <td>68.09</td>\n",
       "      <td>100.0</td>\n",
       "      <td>3600</td>\n",
       "      <td>0</td>\n",
       "      <td>0</td>\n",
       "      <td>Light_Load</td>\n",
       "    </tr>\n",
       "    <tr>\n",
       "      <th>4</th>\n",
       "      <td>3.82</td>\n",
       "      <td>4.50</td>\n",
       "      <td>0.0</td>\n",
       "      <td>0.0</td>\n",
       "      <td>64.72</td>\n",
       "      <td>100.0</td>\n",
       "      <td>4500</td>\n",
       "      <td>0</td>\n",
       "      <td>0</td>\n",
       "      <td>Light_Load</td>\n",
       "    </tr>\n",
       "  </tbody>\n",
       "</table>\n",
       "</div>"
      ],
      "text/plain": [
       "   Usage_kWh  Lagging_Current_Reactive_Power_kVarh  \\\n",
       "0       3.17                                  2.95   \n",
       "1       4.00                                  4.46   \n",
       "2       3.24                                  3.28   \n",
       "3       3.31                                  3.56   \n",
       "4       3.82                                  4.50   \n",
       "\n",
       "   Leading_Current_Reactive_Power_kVarh  CO2  Lagging_Current_Power_Factor  \\\n",
       "0                                   0.0  0.0                         73.21   \n",
       "1                                   0.0  0.0                         66.77   \n",
       "2                                   0.0  0.0                         70.28   \n",
       "3                                   0.0  0.0                         68.09   \n",
       "4                                   0.0  0.0                         64.72   \n",
       "\n",
       "   Leading_Current_Power_Factor   NSM  WeekStatus  Day_of_week   Load_Type  \n",
       "0                         100.0   900           0            0  Light_Load  \n",
       "1                         100.0  1800           0            0  Light_Load  \n",
       "2                         100.0  2700           0            0  Light_Load  \n",
       "3                         100.0  3600           0            0  Light_Load  \n",
       "4                         100.0  4500           0            0  Light_Load  "
      ]
     },
     "execution_count": 4,
     "metadata": {},
     "output_type": "execute_result"
    }
   ],
   "source": [
    "data.head()"
   ]
  },
  {
   "cell_type": "code",
   "execution_count": 5,
   "id": "4d4846c0",
   "metadata": {},
   "outputs": [
    {
     "name": "stdout",
     "output_type": "stream",
     "text": [
      "(26280, 10) (8760, 10)\n"
     ]
    }
   ],
   "source": [
    "#import random split library\n",
    "from sklearn.model_selection import ShuffleSplit\n",
    "\n",
    "#split the data once with 25% data as testing and a random seed of 30\n",
    "split = ShuffleSplit(n_splits=1, test_size=0.25, random_state=30)\n",
    "\n",
    "#use the for loop to obtain train_set and test_set as new dataframes\n",
    "for train_index, test_index in split.split(data):\n",
    "    train_set = data.loc[train_index]\n",
    "    test_set = data.loc[test_index]\n",
    "    \n",
    "#check size of train_set and test_set\n",
    "print(train_set.shape, test_set.shape)"
   ]
  },
  {
   "cell_type": "code",
   "execution_count": 6,
   "id": "075637cc",
   "metadata": {},
   "outputs": [
    {
     "data": {
      "text/plain": [
       "((26280, 9), (26280,))"
      ]
     },
     "execution_count": 6,
     "metadata": {},
     "output_type": "execute_result"
    }
   ],
   "source": [
    "#create trainX with input data and trainY for target column\n",
    "trainX = train_set.loc[:, :'Day_of_week']\n",
    "trainY = train_set.loc[:, 'Load_Type']\n",
    "trainX.shape, trainY.shape"
   ]
  },
  {
   "cell_type": "code",
   "execution_count": 7,
   "id": "c7703615",
   "metadata": {},
   "outputs": [],
   "source": [
    "#same thing for test data\n",
    "testX = test_set.loc[:,:'Day_of_week']\n",
    "testY = test_set.loc[:,'Load_Type']"
   ]
  },
  {
   "cell_type": "code",
   "execution_count": 8,
   "id": "75f1d086",
   "metadata": {},
   "outputs": [],
   "source": [
    "#use a pipeline for preprocessing\n",
    "from sklearn.pipeline import Pipeline\n",
    "from sklearn.impute import SimpleImputer\n",
    "from sklearn.preprocessing import StandardScaler\n",
    "from sklearn.preprocessing import OneHotEncoder\n",
    "from sklearn.compose import ColumnTransformer\n",
    "import numpy as np\n",
    "\n",
    "num_cols = trainX.columns[(trainX.dtypes==np.int64) | (trainX.dtypes==np.float64)]\n",
    "\n",
    "num_pipeline = Pipeline([\n",
    "    ('impute', SimpleImputer(strategy='median')),\n",
    "    ('standardize', StandardScaler())\n",
    "])\n",
    "\n",
    "cat_cols = trainX.columns[trainX.dtypes==object]\n",
    "\n",
    "cat_pipeline = Pipeline([\n",
    "    ('impute', SimpleImputer(strategy='constant',fill_value='missing')),\n",
    "    ('encode', OneHotEncoder())\n",
    "])\n",
    "\n",
    "full_pipeline = ColumnTransformer([\n",
    "    ('numeric', num_pipeline, num_cols),\n",
    "    ('class', cat_pipeline, cat_cols)\n",
    "])"
   ]
  },
  {
   "cell_type": "code",
   "execution_count": 9,
   "id": "a57b3334",
   "metadata": {},
   "outputs": [],
   "source": [
    "trainX_prc = full_pipeline.fit_transform(trainX)\n",
    "\n",
    "traindata = np.concatenate([trainY.values.reshape(-1,1),trainX_prc],axis=1)\n",
    "\n",
    "\n",
    "\n",
    "testX_prc = full_pipeline.transform(testX)\n",
    "\n",
    "testdata = np.array(testX_prc)"
   ]
  },
  {
   "cell_type": "code",
   "execution_count": 10,
   "id": "76e5fb07",
   "metadata": {},
   "outputs": [
    {
     "data": {
      "text/plain": [
       "(26280, 9)"
      ]
     },
     "execution_count": 10,
     "metadata": {},
     "output_type": "execute_result"
    }
   ],
   "source": [
    "trainX_prc = full_pipeline.fit_transform(trainX)\n",
    "\n",
    "trainX_prc.shape"
   ]
  },
  {
   "cell_type": "code",
   "execution_count": 11,
   "id": "349975e8",
   "metadata": {},
   "outputs": [
    {
     "data": {
      "text/plain": [
       "(8760, 9)"
      ]
     },
     "execution_count": 11,
     "metadata": {},
     "output_type": "execute_result"
    }
   ],
   "source": [
    "testX_prc = full_pipeline.transform(testX)\n",
    "\n",
    "testX_prc.shape"
   ]
  },
  {
   "cell_type": "code",
   "execution_count": 12,
   "id": "f1b3ce89",
   "metadata": {},
   "outputs": [
    {
     "name": "stdout",
     "output_type": "stream",
     "text": [
      "Training Accuracy: 0.7580289193302892\n",
      "Testing Accuracy: 0.7478310502283105\n"
     ]
    }
   ],
   "source": [
    "#import libraries for logistic regression model\n",
    "from sklearn.linear_model import LogisticRegression\n",
    "from sklearn.model_selection import cross_val_score\n",
    "from sklearn.model_selection import cross_val_predict\n",
    "from sklearn.metrics import f1_score\n",
    "\n",
    "#create new model\n",
    "logistic = LogisticRegression()\n",
    "\n",
    "#train \n",
    "logistic.fit(trainX_prc, trainY)\n",
    "\n",
    "#get training accuracy\n",
    "train_accuracy_lg = logistic.score(trainX_prc, trainY)\n",
    "\n",
    "#get testing accuracy\n",
    "test_accuracy_lg = logistic.score(testX_prc, testY)\n",
    "\n",
    "print('Training Accuracy:', train_accuracy_lg)\n",
    "print('Testing Accuracy:', test_accuracy_lg)"
   ]
  }
 ],
 "metadata": {
  "kernelspec": {
   "display_name": "Python 3 (ipykernel)",
   "language": "python",
   "name": "python3"
  },
  "language_info": {
   "codemirror_mode": {
    "name": "ipython",
    "version": 3
   },
   "file_extension": ".py",
   "mimetype": "text/x-python",
   "name": "python",
   "nbconvert_exporter": "python",
   "pygments_lexer": "ipython3",
   "version": "3.8.10"
  }
 },
 "nbformat": 4,
 "nbformat_minor": 5
}
